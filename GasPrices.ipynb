{
 "cells": [
  {
   "cell_type": "code",
<<<<<<< HEAD
   "execution_count": 21,
=======
   "execution_count": 204,
>>>>>>> 307666352dcc5632f075098cddd8cc51d5916ddd
   "metadata": {
    "collapsed": false
   },
   "outputs": [],
   "source": [
<<<<<<< HEAD
    "%matplotlib inline\n",
    "from bs4 import BeautifulSoup\n",
    "import requests\n",
    "import pandas as pd\n",
    "\n",
    "\n"
=======
    "%matplotlib.inline\n",
    "import matplotlib.pyplot as plt\n",
    "from bs4 import BeautifulSoup\n",
    "import requests\n",
    "import pandas as pd\n"
>>>>>>> 307666352dcc5632f075098cddd8cc51d5916ddd
   ]
  },
  {
   "cell_type": "markdown",
   "metadata": {},
   "source": [
    "# Notes on Gas prices\n",
    "   1. Gather data from nominal price of gas standardized on yearly price.\n",
    "   2. Cleaning and Transforming\n",
    "   3. Adjust prices for Inflation\n",
    "   4. Graph Nominal / Adjusted\n",
    "   5. Choose another item to compare"
   ]
  },
  {
   "cell_type": "code",
<<<<<<< HEAD
   "execution_count": 22,
=======
   "execution_count": 195,
>>>>>>> 307666352dcc5632f075098cddd8cc51d5916ddd
   "metadata": {
    "collapsed": false
   },
   "outputs": [
    {
     "name": "stderr",
     "output_type": "stream",
     "text": [
      "/usr/local/lib/python3.5/site-packages/bs4/__init__.py:166: UserWarning: No parser was explicitly specified, so I'm using the best available HTML parser for this system (\"lxml\"). This usually isn't a problem, but if you run this code on another system, or in a different virtual environment, it may use a different parser and behave differently.\n",
      "\n",
      "To get rid of this warning, change this:\n",
      "\n",
      " BeautifulSoup([your markup])\n",
      "\n",
      "to this:\n",
      "\n",
      " BeautifulSoup([your markup], \"lxml\")\n",
      "\n",
      "  markup_type=markup_type))\n"
     ]
    }
   ],
   "source": [
    "#get website data in html\n",
    "t = requests.get(\"http://www.eia.gov/totalenergy/data/annual/showtext.cfm?t=ptb0524\") \n",
    "soup = BeautifulSoup(t.text)"
   ]
  },
  {
   "cell_type": "code",
<<<<<<< HEAD
   "execution_count": 23,
=======
   "execution_count": 196,
>>>>>>> 307666352dcc5632f075098cddd8cc51d5916ddd
   "metadata": {
    "collapsed": false
   },
   "outputs": [],
   "source": [
    "allrows = soup.find_all('tr') #find all table rows"
   ]
  },
  {
   "cell_type": "markdown",
   "metadata": {},
   "source": [
    "# Format of our output:\n",
    "\n",
    " The result will be a dictionary with two keys: **year** and **price**:\n",
    " \n",
    "     { 'year': [1949, 1950, ...], 'price': [0.268, 0.268, ...] }"
   ]
  },
  {
   "cell_type": "code",
<<<<<<< HEAD
   "execution_count": 24,
=======
   "execution_count": 197,
>>>>>>> 307666352dcc5632f075098cddd8cc51d5916ddd
   "metadata": {
    "collapsed": false
   },
   "outputs": [],
   "source": [
    "onerow = allrows[43].find_all('td')"
   ]
  },
  {
   "cell_type": "code",
<<<<<<< HEAD
   "execution_count": 25,
=======
   "execution_count": 198,
>>>>>>> 307666352dcc5632f075098cddd8cc51d5916ddd
   "metadata": {
    "collapsed": false
   },
   "outputs": [
    {
     "data": {
      "text/plain": [
       "0.9"
      ]
     },
<<<<<<< HEAD
     "execution_count": 25,
=======
     "execution_count": 198,
>>>>>>> 307666352dcc5632f075098cddd8cc51d5916ddd
     "metadata": {},
     "output_type": "execute_result"
    }
   ],
   "source": [
    "raw_price = onerow[1].get_text().strip()\n",
    "fl_price=float(raw_price.replace('R ', ''))\n",
    "fl_price"
   ]
  },
  {
   "cell_type": "code",
<<<<<<< HEAD
   "execution_count": 26,
=======
   "execution_count": 199,
>>>>>>> 307666352dcc5632f075098cddd8cc51d5916ddd
   "metadata": {
    "collapsed": false
   },
   "outputs": [],
   "source": [
    "#year_list = [] \n",
    "#price_list = []\n",
    "raw_prices = {'Year':[], 'Price':[]}\n",
    "for i in range(4,67):\n",
    "    onerow = allrows[i].find_all('td')\n",
    "    date = int(onerow[0].get_text())\n",
    "   # year_list.append(date)\n",
    "    raw_prices['Year'].append(date)\n",
    "    if date < 1990:\n",
    "       price = onerow[1].get_text().strip()\n",
    "       fl_price = float(price.replace('R ','')) \n",
    "       #price_list.append(fl_price) \n",
    "       raw_prices['Price'].append(fl_price)\n",
    "       \n",
    "    elif date >= 1990:\n",
    "       price = onerow[3].get_text().strip()\n",
    "       fl_price = float(price.replace('R ',''))\n",
    "       #price_list.append(fl_price)\n",
    "       raw_prices['Price'].append(fl_price)     "
   ]
  },
  {
   "cell_type": "code",
<<<<<<< HEAD
   "execution_count": 27,
=======
   "execution_count": 200,
>>>>>>> 307666352dcc5632f075098cddd8cc51d5916ddd
   "metadata": {
    "collapsed": false
   },
   "outputs": [
    {
     "data": {
      "text/plain": [
       "{'Price': [0.268,\n",
       "  0.268,\n",
       "  0.272,\n",
       "  0.274,\n",
       "  0.287,\n",
       "  0.29,\n",
       "  0.291,\n",
       "  0.299,\n",
       "  0.31,\n",
       "  0.304,\n",
       "  0.305,\n",
       "  0.311,\n",
       "  0.308,\n",
       "  0.306,\n",
       "  0.304,\n",
       "  0.304,\n",
       "  0.312,\n",
       "  0.321,\n",
       "  0.332,\n",
       "  0.337,\n",
       "  0.348,\n",
       "  0.357,\n",
       "  0.364,\n",
       "  0.361,\n",
       "  0.388,\n",
       "  0.532,\n",
       "  0.567,\n",
       "  0.59,\n",
       "  0.622,\n",
       "  0.627,\n",
       "  0.857,\n",
       "  1.191,\n",
       "  1.311,\n",
       "  1.222,\n",
       "  1.158,\n",
       "  1.129,\n",
       "  1.115,\n",
       "  0.857,\n",
       "  0.897,\n",
       "  0.9,\n",
       "  0.997,\n",
       "  1.164,\n",
       "  1.14,\n",
       "  1.127,\n",
       "  1.108,\n",
       "  1.112,\n",
       "  1.147,\n",
       "  1.231,\n",
       "  1.234,\n",
       "  1.059,\n",
       "  1.165,\n",
       "  1.51,\n",
       "  1.461,\n",
       "  1.358,\n",
       "  1.591,\n",
       "  1.88,\n",
       "  2.295,\n",
       "  2.589,\n",
       "  2.801,\n",
       "  3.266,\n",
       "  2.35,\n",
       "  2.788,\n",
       "  3.527],\n",
       " 'Year': [1949,\n",
       "  1950,\n",
       "  1951,\n",
       "  1952,\n",
       "  1953,\n",
       "  1954,\n",
       "  1955,\n",
       "  1956,\n",
       "  1957,\n",
       "  1958,\n",
       "  1959,\n",
       "  1960,\n",
       "  1961,\n",
       "  1962,\n",
       "  1963,\n",
       "  1964,\n",
       "  1965,\n",
       "  1966,\n",
       "  1967,\n",
       "  1968,\n",
       "  1969,\n",
       "  1970,\n",
       "  1971,\n",
       "  1972,\n",
       "  1973,\n",
       "  1974,\n",
       "  1975,\n",
       "  1976,\n",
       "  1977,\n",
       "  1978,\n",
       "  1979,\n",
       "  1980,\n",
       "  1981,\n",
       "  1982,\n",
       "  1983,\n",
       "  1984,\n",
       "  1985,\n",
       "  1986,\n",
       "  1987,\n",
       "  1988,\n",
       "  1989,\n",
       "  1990,\n",
       "  1991,\n",
       "  1992,\n",
       "  1993,\n",
       "  1994,\n",
       "  1995,\n",
       "  1996,\n",
       "  1997,\n",
       "  1998,\n",
       "  1999,\n",
       "  2000,\n",
       "  2001,\n",
       "  2002,\n",
       "  2003,\n",
       "  2004,\n",
       "  2005,\n",
       "  2006,\n",
       "  2007,\n",
       "  2008,\n",
       "  2009,\n",
       "  2010,\n",
       "  2011]}"
      ]
     },
<<<<<<< HEAD
     "execution_count": 27,
=======
     "execution_count": 200,
>>>>>>> 307666352dcc5632f075098cddd8cc51d5916ddd
     "metadata": {},
     "output_type": "execute_result"
    }
   ],
   "source": [
    "raw_prices"
   ]
  },
  {
   "cell_type": "code",
<<<<<<< HEAD
   "execution_count": 28,
=======
   "execution_count": 201,
>>>>>>> 307666352dcc5632f075098cddd8cc51d5916ddd
   "metadata": {
    "collapsed": false
   },
   "outputs": [
    {
     "data": {
<<<<<<< HEAD
      "text/html": [
       "<div>\n",
       "<table border=\"1\" class=\"dataframe\">\n",
       "  <thead>\n",
       "    <tr style=\"text-align: right;\">\n",
       "      <th></th>\n",
       "      <th>Price</th>\n",
       "      <th>Year</th>\n",
       "    </tr>\n",
       "  </thead>\n",
       "  <tbody>\n",
       "    <tr>\n",
       "      <th>0</th>\n",
       "      <td>0.268</td>\n",
       "      <td>1949</td>\n",
       "    </tr>\n",
       "    <tr>\n",
       "      <th>1</th>\n",
       "      <td>0.268</td>\n",
       "      <td>1950</td>\n",
       "    </tr>\n",
       "    <tr>\n",
       "      <th>2</th>\n",
       "      <td>0.272</td>\n",
       "      <td>1951</td>\n",
       "    </tr>\n",
       "    <tr>\n",
       "      <th>3</th>\n",
       "      <td>0.274</td>\n",
       "      <td>1952</td>\n",
       "    </tr>\n",
       "    <tr>\n",
       "      <th>4</th>\n",
       "      <td>0.287</td>\n",
       "      <td>1953</td>\n",
       "    </tr>\n",
       "  </tbody>\n",
       "</table>\n",
       "</div>"
      ],
      "text/plain": [
       "   Price  Year\n",
       "0  0.268  1949\n",
       "1  0.268  1950\n",
       "2  0.272  1951\n",
       "3  0.274  1952\n",
       "4  0.287  1953"
      ]
     },
     "execution_count": 28,
=======
      "text/plain": [
       "<bound method NDFrame.head of     Price  Year\n",
       "0   0.268  1949\n",
       "1   0.268  1950\n",
       "2   0.272  1951\n",
       "3   0.274  1952\n",
       "4   0.287  1953\n",
       "5   0.290  1954\n",
       "6   0.291  1955\n",
       "7   0.299  1956\n",
       "8   0.310  1957\n",
       "9   0.304  1958\n",
       "10  0.305  1959\n",
       "11  0.311  1960\n",
       "12  0.308  1961\n",
       "13  0.306  1962\n",
       "14  0.304  1963\n",
       "15  0.304  1964\n",
       "16  0.312  1965\n",
       "17  0.321  1966\n",
       "18  0.332  1967\n",
       "19  0.337  1968\n",
       "20  0.348  1969\n",
       "21  0.357  1970\n",
       "22  0.364  1971\n",
       "23  0.361  1972\n",
       "24  0.388  1973\n",
       "25  0.532  1974\n",
       "26  0.567  1975\n",
       "27  0.590  1976\n",
       "28  0.622  1977\n",
       "29  0.627  1978\n",
       "..    ...   ...\n",
       "33  1.222  1982\n",
       "34  1.158  1983\n",
       "35  1.129  1984\n",
       "36  1.115  1985\n",
       "37  0.857  1986\n",
       "38  0.897  1987\n",
       "39  0.900  1988\n",
       "40  0.997  1989\n",
       "41  1.164  1990\n",
       "42  1.140  1991\n",
       "43  1.127  1992\n",
       "44  1.108  1993\n",
       "45  1.112  1994\n",
       "46  1.147  1995\n",
       "47  1.231  1996\n",
       "48  1.234  1997\n",
       "49  1.059  1998\n",
       "50  1.165  1999\n",
       "51  1.510  2000\n",
       "52  1.461  2001\n",
       "53  1.358  2002\n",
       "54  1.591  2003\n",
       "55  1.880  2004\n",
       "56  2.295  2005\n",
       "57  2.589  2006\n",
       "58  2.801  2007\n",
       "59  3.266  2008\n",
       "60  2.350  2009\n",
       "61  2.788  2010\n",
       "62  3.527  2011\n",
       "\n",
       "[63 rows x 2 columns]>"
      ]
     },
     "execution_count": 201,
>>>>>>> 307666352dcc5632f075098cddd8cc51d5916ddd
     "metadata": {},
     "output_type": "execute_result"
    }
   ],
   "source": [
    "df = pd.DataFrame(raw_prices)\n",
<<<<<<< HEAD
    "df.head()"
   ]
  },
  {
   "cell_type": "markdown",
   "metadata": {},
   "source": [
    "# Plot the raw data in a scatter-plot."
=======
    "df.head"
>>>>>>> 307666352dcc5632f075098cddd8cc51d5916ddd
   ]
  },
  {
   "cell_type": "code",
<<<<<<< HEAD
   "execution_count": 19,
=======
   "execution_count": 206,
>>>>>>> 307666352dcc5632f075098cddd8cc51d5916ddd
   "metadata": {
    "collapsed": false
   },
   "outputs": [
    {
     "data": {
      "text/plain": [
<<<<<<< HEAD
       "<matplotlib.axes._subplots.AxesSubplot at 0x7fe14016b320>"
      ]
     },
     "execution_count": 19,
     "metadata": {},
     "output_type": "execute_result"
    },
    {
     "data": {
      "image/png": "iVBORw0KGgoAAAANSUhEUgAAAYwAAAEPCAYAAABRHfM8AAAABHNCSVQICAgIfAhkiAAAAAlwSFlz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\n",
      "text/plain": [
       "<matplotlib.figure.Figure at 0x7fe1401642e8>"
      ]
     },
     "metadata": {},
     "output_type": "display_data"
=======
       "<matplotlib.axes._subplots.AxesSubplot at 0x7f1041e5a438>"
      ]
     },
     "execution_count": 206,
     "metadata": {},
     "output_type": "execute_result"
>>>>>>> 307666352dcc5632f075098cddd8cc51d5916ddd
    }
   ],
   "source": [
    "df.plot(x='Year', y='Price', kind='scatter')"
   ]
  },
  {
<<<<<<< HEAD
   "cell_type": "markdown",
   "metadata": {},
   "source": [
    "# Adjust our data using Pandas commands and compare it with the previously-adjusted CPI data."
   ]
  },
  {
   "cell_type": "code",
   "execution_count": 43,
=======
   "cell_type": "code",
   "execution_count": 220,
>>>>>>> 307666352dcc5632f075098cddd8cc51d5916ddd
   "metadata": {
    "collapsed": false
   },
   "outputs": [
    {
     "data": {
      "text/html": [
       "<div>\n",
       "<table border=\"1\" class=\"dataframe\">\n",
       "  <thead>\n",
       "    <tr style=\"text-align: right;\">\n",
       "      <th></th>\n",
       "      <th>Year</th>\n",
       "      <th>Annual</th>\n",
       "    </tr>\n",
       "  </thead>\n",
       "  <tbody>\n",
       "    <tr>\n",
       "      <th>0</th>\n",
       "      <td>1949</td>\n",
       "      <td>23.800</td>\n",
       "    </tr>\n",
       "    <tr>\n",
       "      <th>1</th>\n",
       "      <td>1950</td>\n",
       "      <td>24.100</td>\n",
       "    </tr>\n",
       "    <tr>\n",
       "      <th>2</th>\n",
       "      <td>1951</td>\n",
       "      <td>26.000</td>\n",
       "    </tr>\n",
       "    <tr>\n",
       "      <th>3</th>\n",
       "      <td>1952</td>\n",
       "      <td>26.500</td>\n",
       "    </tr>\n",
       "    <tr>\n",
       "      <th>4</th>\n",
       "      <td>1953</td>\n",
       "      <td>26.700</td>\n",
       "    </tr>\n",
       "    <tr>\n",
       "      <th>5</th>\n",
       "      <td>1954</td>\n",
       "      <td>26.900</td>\n",
       "    </tr>\n",
       "    <tr>\n",
       "      <th>6</th>\n",
       "      <td>1955</td>\n",
       "      <td>26.800</td>\n",
       "    </tr>\n",
       "    <tr>\n",
       "      <th>7</th>\n",
       "      <td>1956</td>\n",
       "      <td>27.200</td>\n",
       "    </tr>\n",
       "    <tr>\n",
       "      <th>8</th>\n",
       "      <td>1957</td>\n",
       "      <td>28.100</td>\n",
       "    </tr>\n",
       "    <tr>\n",
       "      <th>9</th>\n",
       "      <td>1958</td>\n",
       "      <td>28.900</td>\n",
       "    </tr>\n",
       "    <tr>\n",
       "      <th>10</th>\n",
       "      <td>1959</td>\n",
       "      <td>29.100</td>\n",
       "    </tr>\n",
       "    <tr>\n",
       "      <th>11</th>\n",
       "      <td>1960</td>\n",
       "      <td>29.600</td>\n",
       "    </tr>\n",
       "    <tr>\n",
       "      <th>12</th>\n",
       "      <td>1961</td>\n",
       "      <td>29.900</td>\n",
       "    </tr>\n",
       "    <tr>\n",
       "      <th>13</th>\n",
       "      <td>1962</td>\n",
       "      <td>30.200</td>\n",
       "    </tr>\n",
       "    <tr>\n",
       "      <th>14</th>\n",
       "      <td>1963</td>\n",
       "      <td>30.600</td>\n",
       "    </tr>\n",
       "    <tr>\n",
       "      <th>15</th>\n",
       "      <td>1964</td>\n",
       "      <td>31.000</td>\n",
       "    </tr>\n",
       "    <tr>\n",
       "      <th>16</th>\n",
       "      <td>1965</td>\n",
       "      <td>31.500</td>\n",
       "    </tr>\n",
       "    <tr>\n",
       "      <th>17</th>\n",
       "      <td>1966</td>\n",
       "      <td>32.400</td>\n",
       "    </tr>\n",
       "    <tr>\n",
       "      <th>18</th>\n",
       "      <td>1967</td>\n",
       "      <td>33.400</td>\n",
       "    </tr>\n",
       "    <tr>\n",
       "      <th>19</th>\n",
       "      <td>1968</td>\n",
       "      <td>34.800</td>\n",
       "    </tr>\n",
       "    <tr>\n",
       "      <th>20</th>\n",
       "      <td>1969</td>\n",
       "      <td>36.700</td>\n",
       "    </tr>\n",
       "    <tr>\n",
       "      <th>21</th>\n",
       "      <td>1970</td>\n",
       "      <td>38.800</td>\n",
       "    </tr>\n",
       "    <tr>\n",
       "      <th>22</th>\n",
       "      <td>1971</td>\n",
       "      <td>40.500</td>\n",
       "    </tr>\n",
       "    <tr>\n",
       "      <th>23</th>\n",
       "      <td>1972</td>\n",
       "      <td>41.800</td>\n",
       "    </tr>\n",
       "    <tr>\n",
       "      <th>24</th>\n",
       "      <td>1973</td>\n",
       "      <td>44.400</td>\n",
       "    </tr>\n",
       "    <tr>\n",
       "      <th>25</th>\n",
       "      <td>1974</td>\n",
       "      <td>49.300</td>\n",
       "    </tr>\n",
       "    <tr>\n",
       "      <th>26</th>\n",
       "      <td>1975</td>\n",
       "      <td>53.800</td>\n",
       "    </tr>\n",
       "    <tr>\n",
       "      <th>27</th>\n",
       "      <td>1976</td>\n",
       "      <td>56.900</td>\n",
       "    </tr>\n",
       "    <tr>\n",
       "      <th>28</th>\n",
       "      <td>1977</td>\n",
       "      <td>60.600</td>\n",
       "    </tr>\n",
       "    <tr>\n",
       "      <th>29</th>\n",
       "      <td>1978</td>\n",
       "      <td>65.200</td>\n",
       "    </tr>\n",
       "    <tr>\n",
       "      <th>...</th>\n",
       "      <td>...</td>\n",
       "      <td>...</td>\n",
       "    </tr>\n",
       "    <tr>\n",
       "      <th>37</th>\n",
       "      <td>1986</td>\n",
       "      <td>109.600</td>\n",
       "    </tr>\n",
       "    <tr>\n",
       "      <th>38</th>\n",
       "      <td>1987</td>\n",
       "      <td>113.600</td>\n",
       "    </tr>\n",
       "    <tr>\n",
       "      <th>39</th>\n",
       "      <td>1988</td>\n",
       "      <td>118.300</td>\n",
       "    </tr>\n",
       "    <tr>\n",
       "      <th>40</th>\n",
       "      <td>1989</td>\n",
       "      <td>124.000</td>\n",
       "    </tr>\n",
       "    <tr>\n",
       "      <th>41</th>\n",
       "      <td>1990</td>\n",
       "      <td>130.700</td>\n",
       "    </tr>\n",
       "    <tr>\n",
       "      <th>42</th>\n",
       "      <td>1991</td>\n",
       "      <td>136.200</td>\n",
       "    </tr>\n",
       "    <tr>\n",
       "      <th>43</th>\n",
       "      <td>1992</td>\n",
       "      <td>140.300</td>\n",
       "    </tr>\n",
       "    <tr>\n",
       "      <th>44</th>\n",
       "      <td>1993</td>\n",
       "      <td>144.500</td>\n",
       "    </tr>\n",
       "    <tr>\n",
       "      <th>45</th>\n",
       "      <td>1994</td>\n",
       "      <td>148.200</td>\n",
       "    </tr>\n",
       "    <tr>\n",
       "      <th>46</th>\n",
       "      <td>1995</td>\n",
       "      <td>152.400</td>\n",
       "    </tr>\n",
       "    <tr>\n",
       "      <th>47</th>\n",
       "      <td>1996</td>\n",
       "      <td>156.900</td>\n",
       "    </tr>\n",
       "    <tr>\n",
       "      <th>48</th>\n",
       "      <td>1997</td>\n",
       "      <td>160.500</td>\n",
       "    </tr>\n",
       "    <tr>\n",
       "      <th>49</th>\n",
       "      <td>1998</td>\n",
       "      <td>163.000</td>\n",
       "    </tr>\n",
       "    <tr>\n",
       "      <th>50</th>\n",
       "      <td>1999</td>\n",
       "      <td>166.600</td>\n",
       "    </tr>\n",
       "    <tr>\n",
       "      <th>51</th>\n",
       "      <td>2000</td>\n",
       "      <td>172.200</td>\n",
       "    </tr>\n",
       "    <tr>\n",
       "      <th>52</th>\n",
       "      <td>2001</td>\n",
       "      <td>177.100</td>\n",
       "    </tr>\n",
       "    <tr>\n",
       "      <th>53</th>\n",
       "      <td>2002</td>\n",
       "      <td>179.900</td>\n",
       "    </tr>\n",
       "    <tr>\n",
       "      <th>54</th>\n",
       "      <td>2003</td>\n",
       "      <td>184.000</td>\n",
       "    </tr>\n",
       "    <tr>\n",
       "      <th>55</th>\n",
       "      <td>2004</td>\n",
       "      <td>188.900</td>\n",
       "    </tr>\n",
       "    <tr>\n",
       "      <th>56</th>\n",
       "      <td>2005</td>\n",
       "      <td>195.300</td>\n",
       "    </tr>\n",
       "    <tr>\n",
       "      <th>57</th>\n",
       "      <td>2006</td>\n",
       "      <td>201.600</td>\n",
       "    </tr>\n",
       "    <tr>\n",
       "      <th>58</th>\n",
       "      <td>2007</td>\n",
       "      <td>207.342</td>\n",
       "    </tr>\n",
       "    <tr>\n",
       "      <th>59</th>\n",
       "      <td>2008</td>\n",
       "      <td>215.303</td>\n",
       "    </tr>\n",
       "    <tr>\n",
       "      <th>60</th>\n",
       "      <td>2009</td>\n",
       "      <td>214.537</td>\n",
       "    </tr>\n",
       "    <tr>\n",
       "      <th>61</th>\n",
       "      <td>2010</td>\n",
       "      <td>218.056</td>\n",
       "    </tr>\n",
       "    <tr>\n",
       "      <th>62</th>\n",
       "      <td>2011</td>\n",
       "      <td>224.939</td>\n",
       "    </tr>\n",
       "    <tr>\n",
       "      <th>63</th>\n",
       "      <td>2012</td>\n",
       "      <td>229.594</td>\n",
       "    </tr>\n",
       "    <tr>\n",
       "      <th>64</th>\n",
       "      <td>2013</td>\n",
       "      <td>232.957</td>\n",
       "    </tr>\n",
       "    <tr>\n",
       "      <th>65</th>\n",
       "      <td>2014</td>\n",
       "      <td>236.736</td>\n",
       "    </tr>\n",
       "    <tr>\n",
       "      <th>66</th>\n",
       "      <td>2015</td>\n",
       "      <td>237.017</td>\n",
       "    </tr>\n",
       "  </tbody>\n",
       "</table>\n",
       "<p>67 rows × 2 columns</p>\n",
       "</div>"
      ],
      "text/plain": [
       "    Year   Annual\n",
       "0   1949   23.800\n",
       "1   1950   24.100\n",
       "2   1951   26.000\n",
       "3   1952   26.500\n",
       "4   1953   26.700\n",
       "5   1954   26.900\n",
       "6   1955   26.800\n",
       "7   1956   27.200\n",
       "8   1957   28.100\n",
       "9   1958   28.900\n",
       "10  1959   29.100\n",
       "11  1960   29.600\n",
       "12  1961   29.900\n",
       "13  1962   30.200\n",
       "14  1963   30.600\n",
       "15  1964   31.000\n",
       "16  1965   31.500\n",
       "17  1966   32.400\n",
       "18  1967   33.400\n",
       "19  1968   34.800\n",
       "20  1969   36.700\n",
       "21  1970   38.800\n",
       "22  1971   40.500\n",
       "23  1972   41.800\n",
       "24  1973   44.400\n",
       "25  1974   49.300\n",
       "26  1975   53.800\n",
       "27  1976   56.900\n",
       "28  1977   60.600\n",
       "29  1978   65.200\n",
       "..   ...      ...\n",
       "37  1986  109.600\n",
       "38  1987  113.600\n",
       "39  1988  118.300\n",
       "40  1989  124.000\n",
       "41  1990  130.700\n",
       "42  1991  136.200\n",
       "43  1992  140.300\n",
       "44  1993  144.500\n",
       "45  1994  148.200\n",
       "46  1995  152.400\n",
       "47  1996  156.900\n",
       "48  1997  160.500\n",
       "49  1998  163.000\n",
       "50  1999  166.600\n",
       "51  2000  172.200\n",
       "52  2001  177.100\n",
       "53  2002  179.900\n",
       "54  2003  184.000\n",
       "55  2004  188.900\n",
       "56  2005  195.300\n",
       "57  2006  201.600\n",
       "58  2007  207.342\n",
       "59  2008  215.303\n",
       "60  2009  214.537\n",
       "61  2010  218.056\n",
       "62  2011  224.939\n",
       "63  2012  229.594\n",
       "64  2013  232.957\n",
       "65  2014  236.736\n",
       "66  2015  237.017\n",
       "\n",
       "[67 rows x 2 columns]"
      ]
     },
<<<<<<< HEAD
     "execution_count": 43,
=======
     "execution_count": 220,
>>>>>>> 307666352dcc5632f075098cddd8cc51d5916ddd
     "metadata": {},
     "output_type": "execute_result"
    }
   ],
   "source": [
<<<<<<< HEAD
    "cpi = pd.read_excel('CPI_Datasheet.xlsx',skiprows=range(9), header=1)\n",
=======
    "cpi = pd.read_excel('CPI Datasheet.xlsx',skiprows=range(9),header=1)\n",
>>>>>>> 307666352dcc5632f075098cddd8cc51d5916ddd
    "cpi"
   ]
  },
  {
   "cell_type": "code",
<<<<<<< HEAD
   "execution_count": 44,
=======
   "execution_count": 213,
>>>>>>> 307666352dcc5632f075098cddd8cc51d5916ddd
   "metadata": {
    "collapsed": false
   },
   "outputs": [
    {
     "data": {
<<<<<<< HEAD
      "text/html": [
       "<div>\n",
       "<table border=\"1\" class=\"dataframe\">\n",
       "  <thead>\n",
       "    <tr style=\"text-align: right;\">\n",
       "      <th></th>\n",
       "      <th>Annual</th>\n",
       "    </tr>\n",
       "    <tr>\n",
       "      <th>Year</th>\n",
       "      <th></th>\n",
       "    </tr>\n",
       "  </thead>\n",
       "  <tbody>\n",
       "    <tr>\n",
       "      <th>1949</th>\n",
       "      <td>23.8</td>\n",
       "    </tr>\n",
       "    <tr>\n",
       "      <th>1950</th>\n",
       "      <td>24.1</td>\n",
       "    </tr>\n",
       "    <tr>\n",
       "      <th>1951</th>\n",
       "      <td>26.0</td>\n",
       "    </tr>\n",
       "    <tr>\n",
       "      <th>1952</th>\n",
       "      <td>26.5</td>\n",
       "    </tr>\n",
       "    <tr>\n",
       "      <th>1953</th>\n",
       "      <td>26.7</td>\n",
       "    </tr>\n",
       "  </tbody>\n",
       "</table>\n",
       "</div>"
      ],
      "text/plain": [
       "      Annual\n",
       "Year        \n",
       "1949    23.8\n",
       "1950    24.1\n",
       "1951    26.0\n",
       "1952    26.5\n",
       "1953    26.7"
      ]
     },
     "execution_count": 44,
=======
      "text/plain": [
       "2.31002902289584"
      ]
     },
     "execution_count": 213,
>>>>>>> 307666352dcc5632f075098cddd8cc51d5916ddd
     "metadata": {},
     "output_type": "execute_result"
    }
   ],
   "source": [
<<<<<<< HEAD
    "cpi = cpi.set_index(keys='Year')\n",
    "cpi.head()"
=======
    "nowcpi = 238.78\n",
    "oldcpi = 31.01\n",
    "\n",
    "nowcpi/oldcpi *0.3"
>>>>>>> 307666352dcc5632f075098cddd8cc51d5916ddd
   ]
  },
  {
   "cell_type": "code",
<<<<<<< HEAD
   "execution_count": 45,
=======
   "execution_count": 228,
>>>>>>> 307666352dcc5632f075098cddd8cc51d5916ddd
   "metadata": {
    "collapsed": false
   },
   "outputs": [
    {
<<<<<<< HEAD
     "data": {
      "text/plain": [
       "2.31002902289584"
      ]
     },
     "execution_count": 45,
     "metadata": {},
     "output_type": "execute_result"
    }
   ],
   "source": [
    "nowcpi = 238.78\n",
    "oldcpi = 31.01\n",
    "\n",
    "nowcpi/oldcpi * 0.3"
=======
     "ename": "SyntaxError",
     "evalue": "invalid syntax (<ipython-input-228-e0fcafa5ee2a>, line 1)",
     "output_type": "error",
     "traceback": [
      "\u001b[0;36m  File \u001b[0;32m\"<ipython-input-228-e0fcafa5ee2a>\"\u001b[0;36m, line \u001b[0;32m1\u001b[0m\n\u001b[0;31m    cpi.set_index(keys='Year')?\u001b[0m\n\u001b[0m                              ^\u001b[0m\n\u001b[0;31mSyntaxError\u001b[0m\u001b[0;31m:\u001b[0m invalid syntax\n"
     ]
    }
   ],
   "source": [
    "cpi.set_index(keys='Year')\n"
>>>>>>> 307666352dcc5632f075098cddd8cc51d5916ddd
   ]
  },
  {
   "cell_type": "code",
<<<<<<< HEAD
   "execution_count": 46,
=======
   "execution_count": 215,
>>>>>>> 307666352dcc5632f075098cddd8cc51d5916ddd
   "metadata": {
    "collapsed": false
   },
   "outputs": [
    {
<<<<<<< HEAD
     "data": {
      "text/html": [
       "<div>\n",
       "<table border=\"1\" class=\"dataframe\">\n",
       "  <thead>\n",
       "    <tr style=\"text-align: right;\">\n",
       "      <th></th>\n",
       "      <th>Price</th>\n",
       "      <th>Year</th>\n",
       "      <th>Annual</th>\n",
       "    </tr>\n",
       "  </thead>\n",
       "  <tbody>\n",
       "    <tr>\n",
       "      <th>0</th>\n",
       "      <td>0.268</td>\n",
       "      <td>1949</td>\n",
       "      <td>23.8</td>\n",
       "    </tr>\n",
       "    <tr>\n",
       "      <th>1</th>\n",
       "      <td>0.268</td>\n",
       "      <td>1950</td>\n",
       "      <td>24.1</td>\n",
       "    </tr>\n",
       "    <tr>\n",
       "      <th>2</th>\n",
       "      <td>0.272</td>\n",
       "      <td>1951</td>\n",
       "      <td>26.0</td>\n",
       "    </tr>\n",
       "    <tr>\n",
       "      <th>3</th>\n",
       "      <td>0.274</td>\n",
       "      <td>1952</td>\n",
       "      <td>26.5</td>\n",
       "    </tr>\n",
       "    <tr>\n",
       "      <th>4</th>\n",
       "      <td>0.287</td>\n",
       "      <td>1953</td>\n",
       "      <td>26.7</td>\n",
       "    </tr>\n",
       "  </tbody>\n",
       "</table>\n",
       "</div>"
      ],
      "text/plain": [
       "   Price  Year  Annual\n",
       "0  0.268  1949    23.8\n",
       "1  0.268  1950    24.1\n",
       "2  0.272  1951    26.0\n",
       "3  0.274  1952    26.5\n",
       "4  0.287  1953    26.7"
      ]
     },
     "execution_count": 46,
     "metadata": {},
     "output_type": "execute_result"
    }
   ],
   "source": [
    "adj = df.merge(right=cpi,left_on='Year', right_index=True)\n",
=======
     "ename": "NameError",
     "evalue": "name 'cpi' is not defined",
     "output_type": "error",
     "traceback": [
      "\u001b[0;31m---------------------------------------------------------------------------\u001b[0m",
      "\u001b[0;31mNameError\u001b[0m                                 Traceback (most recent call last)",
      "\u001b[0;32m<ipython-input-215-f22c2dd288fb>\u001b[0m in \u001b[0;36m<module>\u001b[0;34m()\u001b[0m\n\u001b[0;32m----> 1\u001b[0;31m \u001b[0madj\u001b[0m \u001b[0;34m=\u001b[0m \u001b[0mdf\u001b[0m\u001b[0;34m.\u001b[0m\u001b[0mmerge\u001b[0m\u001b[0;34m(\u001b[0m\u001b[0mright\u001b[0m\u001b[0;34m=\u001b[0m\u001b[0mcpi\u001b[0m\u001b[0;34m,\u001b[0m \u001b[0mleft_on\u001b[0m\u001b[0;34m=\u001b[0m\u001b[0;34m'year'\u001b[0m\u001b[0;34m,\u001b[0m \u001b[0mright_index\u001b[0m\u001b[0;34m=\u001b[0m\u001b[0;32mTrue\u001b[0m\u001b[0;34m)\u001b[0m\u001b[0;34m\u001b[0m\u001b[0m\n\u001b[0m",
      "\u001b[0;31mNameError\u001b[0m: name 'cpi' is not defined"
     ]
    }
   ],
   "source": [
    "adj = df.merge(right=cpi, left_on='year', right_index=True)\n",
>>>>>>> 307666352dcc5632f075098cddd8cc51d5916ddd
    "adj.head()"
   ]
  },
  {
   "cell_type": "code",
<<<<<<< HEAD
   "execution_count": 49,
=======
   "execution_count": 221,
>>>>>>> 307666352dcc5632f075098cddd8cc51d5916ddd
   "metadata": {
    "collapsed": false
   },
   "outputs": [
    {
<<<<<<< HEAD
     "data": {
      "text/html": [
       "<div>\n",
       "<table border=\"1\" class=\"dataframe\">\n",
       "  <thead>\n",
       "    <tr style=\"text-align: right;\">\n",
       "      <th></th>\n",
       "      <th>Price</th>\n",
       "      <th>Year</th>\n",
       "      <th>Annual</th>\n",
       "      <th>Adjusted Price</th>\n",
       "    </tr>\n",
       "  </thead>\n",
       "  <tbody>\n",
       "    <tr>\n",
       "      <th>0</th>\n",
       "      <td>0.268</td>\n",
       "      <td>1949</td>\n",
       "      <td>23.8</td>\n",
       "      <td>2.688783</td>\n",
       "    </tr>\n",
       "    <tr>\n",
       "      <th>1</th>\n",
       "      <td>0.268</td>\n",
       "      <td>1950</td>\n",
       "      <td>24.1</td>\n",
       "      <td>2.655313</td>\n",
       "    </tr>\n",
       "    <tr>\n",
       "      <th>2</th>\n",
       "      <td>0.272</td>\n",
       "      <td>1951</td>\n",
       "      <td>26.0</td>\n",
       "      <td>2.498006</td>\n",
       "    </tr>\n",
       "    <tr>\n",
       "      <th>3</th>\n",
       "      <td>0.274</td>\n",
       "      <td>1952</td>\n",
       "      <td>26.5</td>\n",
       "      <td>2.468895</td>\n",
       "    </tr>\n",
       "    <tr>\n",
       "      <th>4</th>\n",
       "      <td>0.287</td>\n",
       "      <td>1953</td>\n",
       "      <td>26.7</td>\n",
       "      <td>2.566661</td>\n",
       "    </tr>\n",
       "  </tbody>\n",
       "</table>\n",
       "</div>"
      ],
      "text/plain": [
       "   Price  Year  Annual  Adjusted Price\n",
       "0  0.268  1949    23.8        2.688783\n",
       "1  0.268  1950    24.1        2.655313\n",
       "2  0.272  1951    26.0        2.498006\n",
       "3  0.274  1952    26.5        2.468895\n",
       "4  0.287  1953    26.7        2.566661"
      ]
     },
     "execution_count": 49,
     "metadata": {},
     "output_type": "execute_result"
    }
   ],
   "source": [
    "adj['Adjusted Price'] = adj.Price * 238.78/adj.Annual\n",
    "adj.head()"
=======
     "ename": "NameError",
     "evalue": "name 'adj' is not defined",
     "output_type": "error",
     "traceback": [
      "\u001b[0;31m---------------------------------------------------------------------------\u001b[0m",
      "\u001b[0;31mNameError\u001b[0m                                 Traceback (most recent call last)",
      "\u001b[0;32m<ipython-input-221-7f17488ef1ea>\u001b[0m in \u001b[0;36m<module>\u001b[0;34m()\u001b[0m\n\u001b[0;32m----> 1\u001b[0;31m \u001b[0madj\u001b[0m\u001b[0;34m[\u001b[0m\u001b[0;34m'Adjusted Price'\u001b[0m\u001b[0;34m]\u001b[0m \u001b[0;34m=\u001b[0m \u001b[0madj\u001b[0m\u001b[0;34m.\u001b[0m\u001b[0mprice\u001b[0m \u001b[0;34m*\u001b[0m \u001b[0;36m238.78\u001b[0m\u001b[0;34m/\u001b[0m\u001b[0madj\u001b[0m\u001b[0;34m.\u001b[0m\u001b[0mYear\u001b[0m\u001b[0;34m\u001b[0m\u001b[0m\n\u001b[0m\u001b[1;32m      2\u001b[0m \u001b[0madj\u001b[0m\u001b[0;34m.\u001b[0m\u001b[0mhead\u001b[0m\u001b[0;34m\u001b[0m\u001b[0m\n",
      "\u001b[0;31mNameError\u001b[0m: name 'adj' is not defined"
     ]
    }
   ],
   "source": [
    "adj['Adjusted Price'] = adj.price * 238.78/adj.Year\n",
    "adj.head"
>>>>>>> 307666352dcc5632f075098cddd8cc51d5916ddd
   ]
  },
  {
   "cell_type": "code",
<<<<<<< HEAD
   "execution_count": 51,
=======
   "execution_count": 226,
>>>>>>> 307666352dcc5632f075098cddd8cc51d5916ddd
   "metadata": {
    "collapsed": false
   },
   "outputs": [
    {
<<<<<<< HEAD
     "data": {
      "text/plain": [
       "<matplotlib.axes._subplots.AxesSubplot at 0x7fe1463ff5f8>"
      ]
     },
     "execution_count": 51,
     "metadata": {},
     "output_type": "execute_result"
    },
    {
     "data": {
      "image/png": "iVBORw0KGgoAAAANSUhEUgAAAXgAAAEPCAYAAABIut/fAAAABHNCSVQICAgIfAhkiAAAAAlwSFlz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\n8csyRAAAAABJRU5ErkJggg==\n",
      "text/plain": [
       "<matplotlib.figure.Figure at 0x7fe1463fc278>"
      ]
     },
     "metadata": {},
     "output_type": "display_data"
    }
   ],
   "source": [
    "xx = adj[['Price','Adjusted Price']]\n",
    "xx.index = adj.Year\n",
=======
     "ename": "SyntaxError",
     "evalue": "EOL while scanning string literal (<ipython-input-226-142dcd031772>, line 1)",
     "output_type": "error",
     "traceback": [
      "\u001b[0;36m  File \u001b[0;32m\"<ipython-input-226-142dcd031772>\"\u001b[0;36m, line \u001b[0;32m1\u001b[0m\n\u001b[0;31m    xx = adj[['price','adj_price]]\u001b[0m\n\u001b[0m                                  ^\u001b[0m\n\u001b[0;31mSyntaxError\u001b[0m\u001b[0;31m:\u001b[0m EOL while scanning string literal\n"
     ]
    }
   ],
   "source": [
    "xx = adj[['price','adj_price]]\n",
    "xx.index = adj.year\n",
>>>>>>> 307666352dcc5632f075098cddd8cc51d5916ddd
    "xx.plot()"
   ]
  },
  {
   "cell_type": "code",
<<<<<<< HEAD
   "execution_count": 52,
   "metadata": {
    "collapsed": false
   },
   "outputs": [
    {
     "data": {
      "text/plain": [
       "<matplotlib.text.Text at 0x7fe10889fac8>"
      ]
     },
     "execution_count": 52,
     "metadata": {},
     "output_type": "execute_result"
    },
    {
     "data": {
      "image/png": "iVBORw0KGgoAAAANSUhEUgAAAYwAAAEZCAYAAACEkhK6AAAABHNCSVQICAgIfAhkiAAAAAlwSFlz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\nDDMzK+UfYGvDokGKnEIAAAAASUVORK5CYII=\n",
      "text/plain": [
       "<matplotlib.figure.Figure at 0x7fe1088dc908>"
      ]
     },
     "metadata": {},
     "output_type": "display_data"
    }
   ],
   "source": [
    "fig = plt.figure()\n",
    "ax = fig.add_subplot(111)\n",
    "ax.plot(adj['Year'], adj['Price'], marker='+', color='b')\n",
    "ax.plot(adj['Year'], adj['Adjusted Price'], marker='^', color='g')\n",
    "ax.set_ylabel('Price in $')\n",
    "ax.set_xlabel('Year')\n",
    "ax.set_title('Compare Price of Gas')"
=======
   "execution_count": null,
   "metadata": {
    "collapsed": true
   },
   "outputs": [],
   "source": [
    "fig = plt.figure()\n",
    "ax = fig.add_subplot(111)\n",
    "ax.plot(adj['year'], adj['price'], marker='+', color='b')\n",
    "ax.plot(adj['year'], adj['adj_price'], marker='*', color=g)"
>>>>>>> 307666352dcc5632f075098cddd8cc51d5916ddd
   ]
  },
  {
   "cell_type": "code",
<<<<<<< HEAD
   "execution_count": 54,
   "metadata": {
    "collapsed": false
   },
   "outputs": [],
   "source": [
    "adj.to_excel('gas_prices.xlsx')"
=======
   "execution_count": 227,
   "metadata": {
    "collapsed": false
   },
   "outputs": [
    {
     "ename": "NameError",
     "evalue": "name 'adj' is not defined",
     "output_type": "error",
     "traceback": [
      "\u001b[0;31m---------------------------------------------------------------------------\u001b[0m",
      "\u001b[0;31mNameError\u001b[0m                                 Traceback (most recent call last)",
      "\u001b[0;32m<ipython-input-227-8c52777cdcec>\u001b[0m in \u001b[0;36m<module>\u001b[0;34m()\u001b[0m\n\u001b[0;32m----> 1\u001b[0;31m \u001b[0madj\u001b[0m\u001b[0;34m.\u001b[0m\u001b[0mto_excel\u001b[0m\u001b[0;34m(\u001b[0m\u001b[0mtesting\u001b[0m\u001b[0;34m.\u001b[0m\u001b[0mxlsx\u001b[0m\u001b[0;34m)\u001b[0m\u001b[0;34m\u001b[0m\u001b[0m\n\u001b[0m",
      "\u001b[0;31mNameError\u001b[0m: name 'adj' is not defined"
     ]
    }
   ],
   "source": [
    "adj.to_excel(testing.xlsx)"
>>>>>>> 307666352dcc5632f075098cddd8cc51d5916ddd
   ]
  },
  {
   "cell_type": "code",
   "execution_count": null,
   "metadata": {
    "collapsed": true
   },
   "outputs": [],
   "source": []
  }
 ],
 "metadata": {
  "kernelspec": {
   "display_name": "Python 3",
   "language": "python",
   "name": "python3"
  },
  "language_info": {
   "codemirror_mode": {
    "name": "ipython",
    "version": 3
   },
   "file_extension": ".py",
   "mimetype": "text/x-python",
   "name": "python",
   "nbconvert_exporter": "python",
   "pygments_lexer": "ipython3",
   "version": "3.5.1"
  }
 },
 "nbformat": 4,
 "nbformat_minor": 0
}
