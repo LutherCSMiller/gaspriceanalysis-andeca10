{
 "cells": [
  {
   "cell_type": "code",
   "execution_count": 204,
   "metadata": {
    "collapsed": false
   },
   "outputs": [],
   "source": [
    "%matplotlib.inline\n",
    "import matplotlib.pyplot as plt\n",
    "from bs4 import BeautifulSoup\n",
    "import requests\n",
    "import pandas as pd\n"
   ]
  },
  {
   "cell_type": "markdown",
   "metadata": {},
   "source": [
    "# Notes on Gas prices\n",
    "   1. Gather data from nominal price of gas standardized on yearly price.\n",
    "   2. Cleaning and Transforming\n",
    "   3. Adjust prices for Inflation\n",
    "   4. Graph Nominal / Adjusted\n",
    "   5. Choose another item to compare"
   ]
  },
  {
   "cell_type": "code",
   "execution_count": 195,
   "metadata": {
    "collapsed": false
   },
   "outputs": [
    {
     "name": "stderr",
     "output_type": "stream",
     "text": [
      "/usr/local/lib/python3.5/site-packages/bs4/__init__.py:166: UserWarning: No parser was explicitly specified, so I'm using the best available HTML parser for this system (\"lxml\"). This usually isn't a problem, but if you run this code on another system, or in a different virtual environment, it may use a different parser and behave differently.\n",
      "\n",
      "To get rid of this warning, change this:\n",
      "\n",
      " BeautifulSoup([your markup])\n",
      "\n",
      "to this:\n",
      "\n",
      " BeautifulSoup([your markup], \"lxml\")\n",
      "\n",
      "  markup_type=markup_type))\n"
     ]
    }
   ],
   "source": [
    "#get website data in html\n",
    "t = requests.get(\"http://www.eia.gov/totalenergy/data/annual/showtext.cfm?t=ptb0524\") \n",
    "soup = BeautifulSoup(t.text)"
   ]
  },
  {
   "cell_type": "code",
   "execution_count": 196,
   "metadata": {
    "collapsed": false
   },
   "outputs": [],
   "source": [
    "allrows = soup.find_all('tr') #find all table rows"
   ]
  },
  {
   "cell_type": "markdown",
   "metadata": {},
   "source": [
    "# Format of our output:\n",
    "\n",
    " The result will be a dictionary with two keys: **year** and **price**:\n",
    " \n",
    "     { 'year': [1949, 1950, ...], 'price': [0.268, 0.268, ...] }"
   ]
  },
  {
   "cell_type": "code",
   "execution_count": 197,
   "metadata": {
    "collapsed": false
   },
   "outputs": [],
   "source": [
    "onerow = allrows[43].find_all('td')"
   ]
  },
  {
   "cell_type": "code",
   "execution_count": 198,
   "metadata": {
    "collapsed": false
   },
   "outputs": [
    {
     "data": {
      "text/plain": [
       "0.9"
      ]
     },
     "execution_count": 198,
     "metadata": {},
     "output_type": "execute_result"
    }
   ],
   "source": [
    "raw_price = onerow[1].get_text().strip()\n",
    "fl_price=float(raw_price.replace('R ', ''))\n",
    "fl_price"
   ]
  },
  {
   "cell_type": "code",
   "execution_count": 199,
   "metadata": {
    "collapsed": false
   },
   "outputs": [],
   "source": [
    "#year_list = [] \n",
    "#price_list = []\n",
    "raw_prices = {'Year':[], 'Price':[]}\n",
    "for i in range(4,67):\n",
    "    onerow = allrows[i].find_all('td')\n",
    "    date = int(onerow[0].get_text())\n",
    "   # year_list.append(date)\n",
    "    raw_prices['Year'].append(date)\n",
    "    if date < 1990:\n",
    "       price = onerow[1].get_text().strip()\n",
    "       fl_price = float(price.replace('R ','')) \n",
    "       #price_list.append(fl_price) \n",
    "       raw_prices['Price'].append(fl_price)\n",
    "       \n",
    "    elif date >= 1990:\n",
    "       price = onerow[3].get_text().strip()\n",
    "       fl_price = float(price.replace('R ',''))\n",
    "       #price_list.append(fl_price)\n",
    "       raw_prices['Price'].append(fl_price)     "
   ]
  },
  {
   "cell_type": "code",
   "execution_count": 200,
   "metadata": {
    "collapsed": false
   },
   "outputs": [
    {
     "data": {
      "text/plain": [
       "{'Price': [0.268,\n",
       "  0.268,\n",
       "  0.272,\n",
       "  0.274,\n",
       "  0.287,\n",
       "  0.29,\n",
       "  0.291,\n",
       "  0.299,\n",
       "  0.31,\n",
       "  0.304,\n",
       "  0.305,\n",
       "  0.311,\n",
       "  0.308,\n",
       "  0.306,\n",
       "  0.304,\n",
       "  0.304,\n",
       "  0.312,\n",
       "  0.321,\n",
       "  0.332,\n",
       "  0.337,\n",
       "  0.348,\n",
       "  0.357,\n",
       "  0.364,\n",
       "  0.361,\n",
       "  0.388,\n",
       "  0.532,\n",
       "  0.567,\n",
       "  0.59,\n",
       "  0.622,\n",
       "  0.627,\n",
       "  0.857,\n",
       "  1.191,\n",
       "  1.311,\n",
       "  1.222,\n",
       "  1.158,\n",
       "  1.129,\n",
       "  1.115,\n",
       "  0.857,\n",
       "  0.897,\n",
       "  0.9,\n",
       "  0.997,\n",
       "  1.164,\n",
       "  1.14,\n",
       "  1.127,\n",
       "  1.108,\n",
       "  1.112,\n",
       "  1.147,\n",
       "  1.231,\n",
       "  1.234,\n",
       "  1.059,\n",
       "  1.165,\n",
       "  1.51,\n",
       "  1.461,\n",
       "  1.358,\n",
       "  1.591,\n",
       "  1.88,\n",
       "  2.295,\n",
       "  2.589,\n",
       "  2.801,\n",
       "  3.266,\n",
       "  2.35,\n",
       "  2.788,\n",
       "  3.527],\n",
       " 'Year': [1949,\n",
       "  1950,\n",
       "  1951,\n",
       "  1952,\n",
       "  1953,\n",
       "  1954,\n",
       "  1955,\n",
       "  1956,\n",
       "  1957,\n",
       "  1958,\n",
       "  1959,\n",
       "  1960,\n",
       "  1961,\n",
       "  1962,\n",
       "  1963,\n",
       "  1964,\n",
       "  1965,\n",
       "  1966,\n",
       "  1967,\n",
       "  1968,\n",
       "  1969,\n",
       "  1970,\n",
       "  1971,\n",
       "  1972,\n",
       "  1973,\n",
       "  1974,\n",
       "  1975,\n",
       "  1976,\n",
       "  1977,\n",
       "  1978,\n",
       "  1979,\n",
       "  1980,\n",
       "  1981,\n",
       "  1982,\n",
       "  1983,\n",
       "  1984,\n",
       "  1985,\n",
       "  1986,\n",
       "  1987,\n",
       "  1988,\n",
       "  1989,\n",
       "  1990,\n",
       "  1991,\n",
       "  1992,\n",
       "  1993,\n",
       "  1994,\n",
       "  1995,\n",
       "  1996,\n",
       "  1997,\n",
       "  1998,\n",
       "  1999,\n",
       "  2000,\n",
       "  2001,\n",
       "  2002,\n",
       "  2003,\n",
       "  2004,\n",
       "  2005,\n",
       "  2006,\n",
       "  2007,\n",
       "  2008,\n",
       "  2009,\n",
       "  2010,\n",
       "  2011]}"
      ]
     },
     "execution_count": 200,
     "metadata": {},
     "output_type": "execute_result"
    }
   ],
   "source": [
    "raw_prices"
   ]
  },
  {
   "cell_type": "code",
   "execution_count": 201,
   "metadata": {
    "collapsed": false
   },
   "outputs": [
    {
     "data": {
      "text/plain": [
       "<bound method NDFrame.head of     Price  Year\n",
       "0   0.268  1949\n",
       "1   0.268  1950\n",
       "2   0.272  1951\n",
       "3   0.274  1952\n",
       "4   0.287  1953\n",
       "5   0.290  1954\n",
       "6   0.291  1955\n",
       "7   0.299  1956\n",
       "8   0.310  1957\n",
       "9   0.304  1958\n",
       "10  0.305  1959\n",
       "11  0.311  1960\n",
       "12  0.308  1961\n",
       "13  0.306  1962\n",
       "14  0.304  1963\n",
       "15  0.304  1964\n",
       "16  0.312  1965\n",
       "17  0.321  1966\n",
       "18  0.332  1967\n",
       "19  0.337  1968\n",
       "20  0.348  1969\n",
       "21  0.357  1970\n",
       "22  0.364  1971\n",
       "23  0.361  1972\n",
       "24  0.388  1973\n",
       "25  0.532  1974\n",
       "26  0.567  1975\n",
       "27  0.590  1976\n",
       "28  0.622  1977\n",
       "29  0.627  1978\n",
       "..    ...   ...\n",
       "33  1.222  1982\n",
       "34  1.158  1983\n",
       "35  1.129  1984\n",
       "36  1.115  1985\n",
       "37  0.857  1986\n",
       "38  0.897  1987\n",
       "39  0.900  1988\n",
       "40  0.997  1989\n",
       "41  1.164  1990\n",
       "42  1.140  1991\n",
       "43  1.127  1992\n",
       "44  1.108  1993\n",
       "45  1.112  1994\n",
       "46  1.147  1995\n",
       "47  1.231  1996\n",
       "48  1.234  1997\n",
       "49  1.059  1998\n",
       "50  1.165  1999\n",
       "51  1.510  2000\n",
       "52  1.461  2001\n",
       "53  1.358  2002\n",
       "54  1.591  2003\n",
       "55  1.880  2004\n",
       "56  2.295  2005\n",
       "57  2.589  2006\n",
       "58  2.801  2007\n",
       "59  3.266  2008\n",
       "60  2.350  2009\n",
       "61  2.788  2010\n",
       "62  3.527  2011\n",
       "\n",
       "[63 rows x 2 columns]>"
      ]
     },
     "execution_count": 201,
     "metadata": {},
     "output_type": "execute_result"
    }
   ],
   "source": [
    "df = pd.DataFrame(raw_prices)\n",
    "df.head"
   ]
  },
  {
   "cell_type": "code",
   "execution_count": 206,
   "metadata": {
    "collapsed": false
   },
   "outputs": [
    {
     "data": {
      "text/plain": [
       "<matplotlib.axes._subplots.AxesSubplot at 0x7f1041e5a438>"
      ]
     },
     "execution_count": 206,
     "metadata": {},
     "output_type": "execute_result"
    }
   ],
   "source": [
    "df.plot(x='Year', y='Price', kind='scatter')"
   ]
  },
  {
   "cell_type": "code",
   "execution_count": 220,
   "metadata": {
    "collapsed": false
   },
   "outputs": [
    {
     "data": {
      "text/html": [
       "<div>\n",
       "<table border=\"1\" class=\"dataframe\">\n",
       "  <thead>\n",
       "    <tr style=\"text-align: right;\">\n",
       "      <th></th>\n",
       "      <th>Year</th>\n",
       "      <th>Annual</th>\n",
       "    </tr>\n",
       "  </thead>\n",
       "  <tbody>\n",
       "    <tr>\n",
       "      <th>0</th>\n",
       "      <td>1949</td>\n",
       "      <td>23.800</td>\n",
       "    </tr>\n",
       "    <tr>\n",
       "      <th>1</th>\n",
       "      <td>1950</td>\n",
       "      <td>24.100</td>\n",
       "    </tr>\n",
       "    <tr>\n",
       "      <th>2</th>\n",
       "      <td>1951</td>\n",
       "      <td>26.000</td>\n",
       "    </tr>\n",
       "    <tr>\n",
       "      <th>3</th>\n",
       "      <td>1952</td>\n",
       "      <td>26.500</td>\n",
       "    </tr>\n",
       "    <tr>\n",
       "      <th>4</th>\n",
       "      <td>1953</td>\n",
       "      <td>26.700</td>\n",
       "    </tr>\n",
       "    <tr>\n",
       "      <th>5</th>\n",
       "      <td>1954</td>\n",
       "      <td>26.900</td>\n",
       "    </tr>\n",
       "    <tr>\n",
       "      <th>6</th>\n",
       "      <td>1955</td>\n",
       "      <td>26.800</td>\n",
       "    </tr>\n",
       "    <tr>\n",
       "      <th>7</th>\n",
       "      <td>1956</td>\n",
       "      <td>27.200</td>\n",
       "    </tr>\n",
       "    <tr>\n",
       "      <th>8</th>\n",
       "      <td>1957</td>\n",
       "      <td>28.100</td>\n",
       "    </tr>\n",
       "    <tr>\n",
       "      <th>9</th>\n",
       "      <td>1958</td>\n",
       "      <td>28.900</td>\n",
       "    </tr>\n",
       "    <tr>\n",
       "      <th>10</th>\n",
       "      <td>1959</td>\n",
       "      <td>29.100</td>\n",
       "    </tr>\n",
       "    <tr>\n",
       "      <th>11</th>\n",
       "      <td>1960</td>\n",
       "      <td>29.600</td>\n",
       "    </tr>\n",
       "    <tr>\n",
       "      <th>12</th>\n",
       "      <td>1961</td>\n",
       "      <td>29.900</td>\n",
       "    </tr>\n",
       "    <tr>\n",
       "      <th>13</th>\n",
       "      <td>1962</td>\n",
       "      <td>30.200</td>\n",
       "    </tr>\n",
       "    <tr>\n",
       "      <th>14</th>\n",
       "      <td>1963</td>\n",
       "      <td>30.600</td>\n",
       "    </tr>\n",
       "    <tr>\n",
       "      <th>15</th>\n",
       "      <td>1964</td>\n",
       "      <td>31.000</td>\n",
       "    </tr>\n",
       "    <tr>\n",
       "      <th>16</th>\n",
       "      <td>1965</td>\n",
       "      <td>31.500</td>\n",
       "    </tr>\n",
       "    <tr>\n",
       "      <th>17</th>\n",
       "      <td>1966</td>\n",
       "      <td>32.400</td>\n",
       "    </tr>\n",
       "    <tr>\n",
       "      <th>18</th>\n",
       "      <td>1967</td>\n",
       "      <td>33.400</td>\n",
       "    </tr>\n",
       "    <tr>\n",
       "      <th>19</th>\n",
       "      <td>1968</td>\n",
       "      <td>34.800</td>\n",
       "    </tr>\n",
       "    <tr>\n",
       "      <th>20</th>\n",
       "      <td>1969</td>\n",
       "      <td>36.700</td>\n",
       "    </tr>\n",
       "    <tr>\n",
       "      <th>21</th>\n",
       "      <td>1970</td>\n",
       "      <td>38.800</td>\n",
       "    </tr>\n",
       "    <tr>\n",
       "      <th>22</th>\n",
       "      <td>1971</td>\n",
       "      <td>40.500</td>\n",
       "    </tr>\n",
       "    <tr>\n",
       "      <th>23</th>\n",
       "      <td>1972</td>\n",
       "      <td>41.800</td>\n",
       "    </tr>\n",
       "    <tr>\n",
       "      <th>24</th>\n",
       "      <td>1973</td>\n",
       "      <td>44.400</td>\n",
       "    </tr>\n",
       "    <tr>\n",
       "      <th>25</th>\n",
       "      <td>1974</td>\n",
       "      <td>49.300</td>\n",
       "    </tr>\n",
       "    <tr>\n",
       "      <th>26</th>\n",
       "      <td>1975</td>\n",
       "      <td>53.800</td>\n",
       "    </tr>\n",
       "    <tr>\n",
       "      <th>27</th>\n",
       "      <td>1976</td>\n",
       "      <td>56.900</td>\n",
       "    </tr>\n",
       "    <tr>\n",
       "      <th>28</th>\n",
       "      <td>1977</td>\n",
       "      <td>60.600</td>\n",
       "    </tr>\n",
       "    <tr>\n",
       "      <th>29</th>\n",
       "      <td>1978</td>\n",
       "      <td>65.200</td>\n",
       "    </tr>\n",
       "    <tr>\n",
       "      <th>...</th>\n",
       "      <td>...</td>\n",
       "      <td>...</td>\n",
       "    </tr>\n",
       "    <tr>\n",
       "      <th>37</th>\n",
       "      <td>1986</td>\n",
       "      <td>109.600</td>\n",
       "    </tr>\n",
       "    <tr>\n",
       "      <th>38</th>\n",
       "      <td>1987</td>\n",
       "      <td>113.600</td>\n",
       "    </tr>\n",
       "    <tr>\n",
       "      <th>39</th>\n",
       "      <td>1988</td>\n",
       "      <td>118.300</td>\n",
       "    </tr>\n",
       "    <tr>\n",
       "      <th>40</th>\n",
       "      <td>1989</td>\n",
       "      <td>124.000</td>\n",
       "    </tr>\n",
       "    <tr>\n",
       "      <th>41</th>\n",
       "      <td>1990</td>\n",
       "      <td>130.700</td>\n",
       "    </tr>\n",
       "    <tr>\n",
       "      <th>42</th>\n",
       "      <td>1991</td>\n",
       "      <td>136.200</td>\n",
       "    </tr>\n",
       "    <tr>\n",
       "      <th>43</th>\n",
       "      <td>1992</td>\n",
       "      <td>140.300</td>\n",
       "    </tr>\n",
       "    <tr>\n",
       "      <th>44</th>\n",
       "      <td>1993</td>\n",
       "      <td>144.500</td>\n",
       "    </tr>\n",
       "    <tr>\n",
       "      <th>45</th>\n",
       "      <td>1994</td>\n",
       "      <td>148.200</td>\n",
       "    </tr>\n",
       "    <tr>\n",
       "      <th>46</th>\n",
       "      <td>1995</td>\n",
       "      <td>152.400</td>\n",
       "    </tr>\n",
       "    <tr>\n",
       "      <th>47</th>\n",
       "      <td>1996</td>\n",
       "      <td>156.900</td>\n",
       "    </tr>\n",
       "    <tr>\n",
       "      <th>48</th>\n",
       "      <td>1997</td>\n",
       "      <td>160.500</td>\n",
       "    </tr>\n",
       "    <tr>\n",
       "      <th>49</th>\n",
       "      <td>1998</td>\n",
       "      <td>163.000</td>\n",
       "    </tr>\n",
       "    <tr>\n",
       "      <th>50</th>\n",
       "      <td>1999</td>\n",
       "      <td>166.600</td>\n",
       "    </tr>\n",
       "    <tr>\n",
       "      <th>51</th>\n",
       "      <td>2000</td>\n",
       "      <td>172.200</td>\n",
       "    </tr>\n",
       "    <tr>\n",
       "      <th>52</th>\n",
       "      <td>2001</td>\n",
       "      <td>177.100</td>\n",
       "    </tr>\n",
       "    <tr>\n",
       "      <th>53</th>\n",
       "      <td>2002</td>\n",
       "      <td>179.900</td>\n",
       "    </tr>\n",
       "    <tr>\n",
       "      <th>54</th>\n",
       "      <td>2003</td>\n",
       "      <td>184.000</td>\n",
       "    </tr>\n",
       "    <tr>\n",
       "      <th>55</th>\n",
       "      <td>2004</td>\n",
       "      <td>188.900</td>\n",
       "    </tr>\n",
       "    <tr>\n",
       "      <th>56</th>\n",
       "      <td>2005</td>\n",
       "      <td>195.300</td>\n",
       "    </tr>\n",
       "    <tr>\n",
       "      <th>57</th>\n",
       "      <td>2006</td>\n",
       "      <td>201.600</td>\n",
       "    </tr>\n",
       "    <tr>\n",
       "      <th>58</th>\n",
       "      <td>2007</td>\n",
       "      <td>207.342</td>\n",
       "    </tr>\n",
       "    <tr>\n",
       "      <th>59</th>\n",
       "      <td>2008</td>\n",
       "      <td>215.303</td>\n",
       "    </tr>\n",
       "    <tr>\n",
       "      <th>60</th>\n",
       "      <td>2009</td>\n",
       "      <td>214.537</td>\n",
       "    </tr>\n",
       "    <tr>\n",
       "      <th>61</th>\n",
       "      <td>2010</td>\n",
       "      <td>218.056</td>\n",
       "    </tr>\n",
       "    <tr>\n",
       "      <th>62</th>\n",
       "      <td>2011</td>\n",
       "      <td>224.939</td>\n",
       "    </tr>\n",
       "    <tr>\n",
       "      <th>63</th>\n",
       "      <td>2012</td>\n",
       "      <td>229.594</td>\n",
       "    </tr>\n",
       "    <tr>\n",
       "      <th>64</th>\n",
       "      <td>2013</td>\n",
       "      <td>232.957</td>\n",
       "    </tr>\n",
       "    <tr>\n",
       "      <th>65</th>\n",
       "      <td>2014</td>\n",
       "      <td>236.736</td>\n",
       "    </tr>\n",
       "    <tr>\n",
       "      <th>66</th>\n",
       "      <td>2015</td>\n",
       "      <td>237.017</td>\n",
       "    </tr>\n",
       "  </tbody>\n",
       "</table>\n",
       "<p>67 rows × 2 columns</p>\n",
       "</div>"
      ],
      "text/plain": [
       "    Year   Annual\n",
       "0   1949   23.800\n",
       "1   1950   24.100\n",
       "2   1951   26.000\n",
       "3   1952   26.500\n",
       "4   1953   26.700\n",
       "5   1954   26.900\n",
       "6   1955   26.800\n",
       "7   1956   27.200\n",
       "8   1957   28.100\n",
       "9   1958   28.900\n",
       "10  1959   29.100\n",
       "11  1960   29.600\n",
       "12  1961   29.900\n",
       "13  1962   30.200\n",
       "14  1963   30.600\n",
       "15  1964   31.000\n",
       "16  1965   31.500\n",
       "17  1966   32.400\n",
       "18  1967   33.400\n",
       "19  1968   34.800\n",
       "20  1969   36.700\n",
       "21  1970   38.800\n",
       "22  1971   40.500\n",
       "23  1972   41.800\n",
       "24  1973   44.400\n",
       "25  1974   49.300\n",
       "26  1975   53.800\n",
       "27  1976   56.900\n",
       "28  1977   60.600\n",
       "29  1978   65.200\n",
       "..   ...      ...\n",
       "37  1986  109.600\n",
       "38  1987  113.600\n",
       "39  1988  118.300\n",
       "40  1989  124.000\n",
       "41  1990  130.700\n",
       "42  1991  136.200\n",
       "43  1992  140.300\n",
       "44  1993  144.500\n",
       "45  1994  148.200\n",
       "46  1995  152.400\n",
       "47  1996  156.900\n",
       "48  1997  160.500\n",
       "49  1998  163.000\n",
       "50  1999  166.600\n",
       "51  2000  172.200\n",
       "52  2001  177.100\n",
       "53  2002  179.900\n",
       "54  2003  184.000\n",
       "55  2004  188.900\n",
       "56  2005  195.300\n",
       "57  2006  201.600\n",
       "58  2007  207.342\n",
       "59  2008  215.303\n",
       "60  2009  214.537\n",
       "61  2010  218.056\n",
       "62  2011  224.939\n",
       "63  2012  229.594\n",
       "64  2013  232.957\n",
       "65  2014  236.736\n",
       "66  2015  237.017\n",
       "\n",
       "[67 rows x 2 columns]"
      ]
     },
     "execution_count": 220,
     "metadata": {},
     "output_type": "execute_result"
    }
   ],
   "source": [
    "cpi = pd.read_excel('CPI Datasheet.xlsx',skiprows=range(9),header=1)\n",
    "cpi"
   ]
  },
  {
   "cell_type": "code",
   "execution_count": 213,
   "metadata": {
    "collapsed": false
   },
   "outputs": [
    {
     "data": {
      "text/plain": [
       "2.31002902289584"
      ]
     },
     "execution_count": 213,
     "metadata": {},
     "output_type": "execute_result"
    }
   ],
   "source": [
    "nowcpi = 238.78\n",
    "oldcpi = 31.01\n",
    "\n",
    "nowcpi/oldcpi *0.3"
   ]
  },
  {
   "cell_type": "code",
   "execution_count": 228,
   "metadata": {
    "collapsed": false
   },
   "outputs": [
    {
     "ename": "SyntaxError",
     "evalue": "invalid syntax (<ipython-input-228-e0fcafa5ee2a>, line 1)",
     "output_type": "error",
     "traceback": [
      "\u001b[0;36m  File \u001b[0;32m\"<ipython-input-228-e0fcafa5ee2a>\"\u001b[0;36m, line \u001b[0;32m1\u001b[0m\n\u001b[0;31m    cpi.set_index(keys='Year')?\u001b[0m\n\u001b[0m                              ^\u001b[0m\n\u001b[0;31mSyntaxError\u001b[0m\u001b[0;31m:\u001b[0m invalid syntax\n"
     ]
    }
   ],
   "source": [
    "cpi.set_index(keys='Year')\n"
   ]
  },
  {
   "cell_type": "code",
   "execution_count": 215,
   "metadata": {
    "collapsed": false
   },
   "outputs": [
    {
     "ename": "NameError",
     "evalue": "name 'cpi' is not defined",
     "output_type": "error",
     "traceback": [
      "\u001b[0;31m---------------------------------------------------------------------------\u001b[0m",
      "\u001b[0;31mNameError\u001b[0m                                 Traceback (most recent call last)",
      "\u001b[0;32m<ipython-input-215-f22c2dd288fb>\u001b[0m in \u001b[0;36m<module>\u001b[0;34m()\u001b[0m\n\u001b[0;32m----> 1\u001b[0;31m \u001b[0madj\u001b[0m \u001b[0;34m=\u001b[0m \u001b[0mdf\u001b[0m\u001b[0;34m.\u001b[0m\u001b[0mmerge\u001b[0m\u001b[0;34m(\u001b[0m\u001b[0mright\u001b[0m\u001b[0;34m=\u001b[0m\u001b[0mcpi\u001b[0m\u001b[0;34m,\u001b[0m \u001b[0mleft_on\u001b[0m\u001b[0;34m=\u001b[0m\u001b[0;34m'year'\u001b[0m\u001b[0;34m,\u001b[0m \u001b[0mright_index\u001b[0m\u001b[0;34m=\u001b[0m\u001b[0;32mTrue\u001b[0m\u001b[0;34m)\u001b[0m\u001b[0;34m\u001b[0m\u001b[0m\n\u001b[0m",
      "\u001b[0;31mNameError\u001b[0m: name 'cpi' is not defined"
     ]
    }
   ],
   "source": [
    "adj = df.merge(right=cpi, left_on='year', right_index=True)\n",
    "adj.head()"
   ]
  },
  {
   "cell_type": "code",
   "execution_count": 221,
   "metadata": {
    "collapsed": false
   },
   "outputs": [
    {
     "ename": "NameError",
     "evalue": "name 'adj' is not defined",
     "output_type": "error",
     "traceback": [
      "\u001b[0;31m---------------------------------------------------------------------------\u001b[0m",
      "\u001b[0;31mNameError\u001b[0m                                 Traceback (most recent call last)",
      "\u001b[0;32m<ipython-input-221-7f17488ef1ea>\u001b[0m in \u001b[0;36m<module>\u001b[0;34m()\u001b[0m\n\u001b[0;32m----> 1\u001b[0;31m \u001b[0madj\u001b[0m\u001b[0;34m[\u001b[0m\u001b[0;34m'Adjusted Price'\u001b[0m\u001b[0;34m]\u001b[0m \u001b[0;34m=\u001b[0m \u001b[0madj\u001b[0m\u001b[0;34m.\u001b[0m\u001b[0mprice\u001b[0m \u001b[0;34m*\u001b[0m \u001b[0;36m238.78\u001b[0m\u001b[0;34m/\u001b[0m\u001b[0madj\u001b[0m\u001b[0;34m.\u001b[0m\u001b[0mYear\u001b[0m\u001b[0;34m\u001b[0m\u001b[0m\n\u001b[0m\u001b[1;32m      2\u001b[0m \u001b[0madj\u001b[0m\u001b[0;34m.\u001b[0m\u001b[0mhead\u001b[0m\u001b[0;34m\u001b[0m\u001b[0m\n",
      "\u001b[0;31mNameError\u001b[0m: name 'adj' is not defined"
     ]
    }
   ],
   "source": [
    "adj['Adjusted Price'] = adj.price * 238.78/adj.Year\n",
    "adj.head"
   ]
  },
  {
   "cell_type": "code",
   "execution_count": 226,
   "metadata": {
    "collapsed": false
   },
   "outputs": [
    {
     "ename": "SyntaxError",
     "evalue": "EOL while scanning string literal (<ipython-input-226-142dcd031772>, line 1)",
     "output_type": "error",
     "traceback": [
      "\u001b[0;36m  File \u001b[0;32m\"<ipython-input-226-142dcd031772>\"\u001b[0;36m, line \u001b[0;32m1\u001b[0m\n\u001b[0;31m    xx = adj[['price','adj_price]]\u001b[0m\n\u001b[0m                                  ^\u001b[0m\n\u001b[0;31mSyntaxError\u001b[0m\u001b[0;31m:\u001b[0m EOL while scanning string literal\n"
     ]
    }
   ],
   "source": [
    "xx = adj[['price','adj_price]]\n",
    "xx.index = adj.year\n",
    "xx.plot()"
   ]
  },
  {
   "cell_type": "code",
   "execution_count": null,
   "metadata": {
    "collapsed": true
   },
   "outputs": [],
   "source": [
    "fig = plt.figure()\n",
    "ax = fig.add_subplot(111)\n",
    "ax.plot(adj['year'], adj['price'], marker='+', color='b')\n",
    "ax.plot(adj['year'], adj['adj_price'], marker='*', color=g)"
   ]
  },
  {
   "cell_type": "code",
   "execution_count": 227,
   "metadata": {
    "collapsed": false
   },
   "outputs": [
    {
     "ename": "NameError",
     "evalue": "name 'adj' is not defined",
     "output_type": "error",
     "traceback": [
      "\u001b[0;31m---------------------------------------------------------------------------\u001b[0m",
      "\u001b[0;31mNameError\u001b[0m                                 Traceback (most recent call last)",
      "\u001b[0;32m<ipython-input-227-8c52777cdcec>\u001b[0m in \u001b[0;36m<module>\u001b[0;34m()\u001b[0m\n\u001b[0;32m----> 1\u001b[0;31m \u001b[0madj\u001b[0m\u001b[0;34m.\u001b[0m\u001b[0mto_excel\u001b[0m\u001b[0;34m(\u001b[0m\u001b[0mtesting\u001b[0m\u001b[0;34m.\u001b[0m\u001b[0mxlsx\u001b[0m\u001b[0;34m)\u001b[0m\u001b[0;34m\u001b[0m\u001b[0m\n\u001b[0m",
      "\u001b[0;31mNameError\u001b[0m: name 'adj' is not defined"
     ]
    }
   ],
   "source": [
    "adj.to_excel(testing.xlsx)"
   ]
  },
  {
   "cell_type": "code",
   "execution_count": null,
   "metadata": {
    "collapsed": true
   },
   "outputs": [],
   "source": []
  }
 ],
 "metadata": {
  "kernelspec": {
   "display_name": "Python 3",
   "language": "python",
   "name": "python3"
  },
  "language_info": {
   "codemirror_mode": {
    "name": "ipython",
    "version": 3
   },
   "file_extension": ".py",
   "mimetype": "text/x-python",
   "name": "python",
   "nbconvert_exporter": "python",
   "pygments_lexer": "ipython3",
   "version": "3.5.1"
  }
 },
 "nbformat": 4,
 "nbformat_minor": 0
}
